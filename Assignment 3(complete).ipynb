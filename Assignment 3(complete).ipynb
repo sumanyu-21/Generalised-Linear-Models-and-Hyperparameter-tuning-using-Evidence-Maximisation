{
 "cells": [
  {
   "cell_type": "code",
   "execution_count": 240,
   "metadata": {},
   "outputs": [],
   "source": [
    "import numpy as np\n",
    "import matplotlib.pyplot as plt\n",
    "import seaborn as sns\n",
    "import string\n",
    "import random\n",
    "import time\n",
    "from numpy import exp\n",
    "from tqdm import tqdm_notebook as tqdm"
   ]
  },
  {
   "cell_type": "markdown",
   "metadata": {},
   "source": [
    "#### Reads file into numpy array"
   ]
  },
  {
   "cell_type": "code",
   "execution_count": 241,
   "metadata": {},
   "outputs": [],
   "source": [
    "def get_data(path):\n",
    "    '''This function returns csv file as a numpy matrix.'''\n",
    "    return np.loadtxt(open(path,'r'),delimiter=',')"
   ]
  },
  {
   "cell_type": "markdown",
   "metadata": {},
   "source": [
    "#### Data Splitting "
   ]
  },
  {
   "cell_type": "code",
   "execution_count": 242,
   "metadata": {},
   "outputs": [],
   "source": [
    "def split_data(X,t,test_ratio=1/3):\n",
    "    '''This function splits the dataset into training and test data'''\n",
    "    n=np.shape(X)[0]\n",
    "    test_index=np.random.choice(np.arange(0,n),replace=False,size=int(n*test_ratio))\n",
    "    train_index=np.array(list(set(np.arange(0,n))-set(test_index)))\n",
    "    \n",
    "    X_test=X[test_index,:]\n",
    "    t_test=t[test_index,:]\n",
    "    \n",
    "    X_train=X[train_index,:]\n",
    "    t_train=t[train_index,:]\n",
    "    \n",
    "    return X_train,t_train,X_test,t_test  \n",
    "\n",
    "def subset_data(X,t,ratio):\n",
    "    '''This function returns a random subset of the data'''\n",
    "    n=np.shape(X)[0]\n",
    "    index=np.random.choice(np.arange(0,n),replace=False,size=int(n*ratio))\n",
    "    return X[index,:],t[index,:]"
   ]
  },
  {
   "cell_type": "markdown",
   "metadata": {},
   "source": [
    "#### Data Pre-processing"
   ]
  },
  {
   "cell_type": "code",
   "execution_count": 243,
   "metadata": {},
   "outputs": [],
   "source": [
    "def process_train(X_train):\n",
    "    '''This function scales the training data.'''\n",
    "    means=np.mean(X_train[:,1:],axis=0).reshape(1,np.shape(X_train)[1]-1)\n",
    "    std_dev=np.std(X_train[:,1:],axis=0).reshape(1,np.shape(X_train)[1]-1)\n",
    "    \n",
    "    X_train[:,1:]=(X_train[:,1:]-means)/std_dev\n",
    "    return X_train,means,std_dev\n",
    "    \n",
    "def process_test(X_test,means,std_dev):\n",
    "    '''This function scales the test data based on the means and std_dev of train data'''\n",
    "    X_test[:,1:]=(X_test[:,1:]-means)/std_dev\n",
    "    return X_test"
   ]
  },
  {
   "cell_type": "markdown",
   "metadata": {},
   "source": [
    "#### Class for Ordinal regression. (Setting up hyperparameters.)"
   ]
  },
  {
   "cell_type": "code",
   "execution_count": 244,
   "metadata": {},
   "outputs": [],
   "source": [
    "class Ordinal:\n",
    "    def __init__(self,s,phi):\n",
    "        self.s=s\n",
    "        self.phi=phi\n",
    "    \n",
    "    def get_hyperparameters(self):\n",
    "        return self.s,self.phi"
   ]
  },
  {
   "cell_type": "markdown",
   "metadata": {},
   "source": [
    "#### Evidence maximisation for optimal hyperparameters"
   ]
  },
  {
   "cell_type": "code",
   "execution_count": 245,
   "metadata": {},
   "outputs": [],
   "source": [
    "def calculate_alpha_new(Gamma,W_MAP) :\n",
    "    return Gamma/(np.matmul(W_MAP.T,W_MAP)[0,0])\n",
    "\n",
    "def calculate_Gamma(alpha_old,X,R):\n",
    "    V,U=np.linalg.eigh(X.T @ R @ X)\n",
    "    Gamma=0\n",
    "    for val in V:\n",
    "        Gamma+=val/(val+alpha_old)\n",
    "    return Gamma"
   ]
  },
  {
   "cell_type": "markdown",
   "metadata": {},
   "source": [
    "#### Generalised Linear Model functions"
   ]
  },
  {
   "cell_type": "code",
   "execution_count": 296,
   "metadata": {},
   "outputs": [],
   "source": [
    "def sigmoid(a):\n",
    "    '''This function returns the sigmoid of the value'''\n",
    "    return 1/(1+exp(-a))\n",
    "\n",
    "\n",
    "\n",
    "def exponential(a):\n",
    "    '''This function returns the exponential of the value.'''\n",
    "    return exp(a)\n",
    "\n",
    "    \n",
    "    \n",
    "def calculate_y(W,X,t,model,ob=None):\n",
    "    '''This function calculates the y for different models'''\n",
    "    y=np.zeros(shape=(np.shape(X)[0],2))\n",
    "    a=X @ W                           \n",
    "    \n",
    "    if(model=='Logistic'):\n",
    "        for i in range(0,y.shape[0]):\n",
    "            y[i,0]=sigmoid(a[i,0])\n",
    "            \n",
    "    elif(model=='Poisson'):\n",
    "        for i in range(0,y.shape[0]):\n",
    "            y[i,0]=exponential(a[i,0])\n",
    "            \n",
    "    elif(model=='Ordinal'):\n",
    "        phi=ob.phi\n",
    "        for i in range(0,y.shape[0]):\n",
    "            t_=int(t[i,0])\n",
    "            y[i,0]=sigmoid(s*(phi[t_]-a[i,0]))\n",
    "            y[i,1]=sigmoid(s*(phi[t_-1]-a[i,0]))\n",
    "    return y\n",
    "\n",
    "\n",
    "def calculate_d(t,y,model):\n",
    "    '''This function calculates the d for different models'''\n",
    "    if(model=='Logistic' or model=='Poisson'):\n",
    "        d=t[:,0]-y[:,0]\n",
    "        d=d.reshape(-1,1)\n",
    "        return d\n",
    "    elif(model=='Ordinal'):\n",
    "        d=y[:,0]+y[:,1]-1\n",
    "        d=d.reshape(-1,1)\n",
    "        return d\n",
    "\n",
    "\n",
    "    \n",
    "def calculate_r(y,model,ob=None):\n",
    "    '''This fucntion calculates the r for different models.'''\n",
    "    if(model=='Logistic'):\n",
    "        r=np.multiply(y[:,0],1-y[:,0])\n",
    "        return np.diag(r)\n",
    "    if(model=='Poisson'):\n",
    "        r=y[:,0]\n",
    "        return np.diag(r)\n",
    "    if(model=='Ordinal'):\n",
    "        s=ob.s\n",
    "        phi=ob.phi\n",
    "        a=np.multiply(y[:,0],1-y[:,0])\n",
    "        b=np.multiply(y[:,1],1-y[:,1])\n",
    "        r=s*s*(a+b) \n",
    "        return np.diag(r)\n",
    "    \n",
    "\n",
    "\n",
    "def calculate_gradient(X,d,W,alpha=10):\n",
    "    '''This function calculates the gradient of the function.'''\n",
    "    A=X.T @ d\n",
    "    B=alpha*W\n",
    "    return A-B\n",
    "\n",
    "\n",
    "def calculate_hessian(X,R,alpha=10):\n",
    "    '''This function calculate sthe hessian of the function'''\n",
    "    A=alpha*np.identity(X.shape[1])\n",
    "    B=(X.T @ R ) @ X\n",
    "    return -1*(A+B)\n",
    "\n",
    "\n",
    "def update_W(W_old,Hessian,gradient):\n",
    "    '''This function updates the weight vector'''\n",
    "    A=np.linalg.inv(Hessian) @ gradient\n",
    "    return W_old-.2*A\n",
    "\n",
    "def check_convergence(W_new,W_old,itr):\n",
    "    '''This function checks if W has converged or not'''\n",
    "    a=W_new-W_old\n",
    "    num=(a.T @ a)[0,0]\n",
    "    den=(W_old.T @ W_old)[0,0]\n",
    "    if(den==0):\n",
    "        return False\n",
    "    elif((num/den)<(1e-3) or itr>=100):\n",
    "        return True\n",
    "    else:\n",
    "        return False\n",
    "\n",
    "def predict_label(X,W,model,ob=None):\n",
    "    '''This function predicts the labels for different models'''\n",
    "    a=X @ W\n",
    "    label=np.zeros(shape=(X.shape[0],1))\n",
    "    \n",
    "    if(model=='Logistic'):\n",
    "        for i in range(0,X.shape[0]):\n",
    "            label[i,0]=sigmoid(a[i,0])\n",
    "            if(label[i,0]>=.5):\n",
    "                label[i,0]=1\n",
    "            else:\n",
    "                label[i,0]=0\n",
    "    \n",
    "    if(model=='Poisson'):\n",
    "        for i in range(0,X.shape[0]):\n",
    "            label[i,0]=exponential(a[i,0])\n",
    "    \n",
    "    if(model=='Ordinal'):\n",
    "        phi=ob.phi\n",
    "        s=ob.s\n",
    "        for i in range(0,X.shape[0]):\n",
    "            prob=np.zeros(len(phi))\n",
    "            y=np.zeros(len(phi))\n",
    "            for j in range(1,len(phi)):\n",
    "                y[j]=sigmoid(s*(phi[j]-a[i,0]))\n",
    "                prob[j]=y[j]-y[j-1]\n",
    "            idx=0\n",
    "            max_value=prob[0]\n",
    "            for k in range(1,len(prob)):\n",
    "                if(prob[k]>max_value):\n",
    "                    max_value=prob[k]\n",
    "                    idx=k\n",
    "            label[i,0]=idx\n",
    "\n",
    "    return label    \n",
    "        \n",
    "    \n",
    "def calculate_error(predict,label,model):\n",
    "    '''This fucntion calculates the error for different models.'''\n",
    "    error=0;\n",
    "    if(model=='Logistic'):\n",
    "        for i in range(0,label.shape[0]):\n",
    "            if(predict[i,0]!=label[i,0]):\n",
    "                error+=1\n",
    "    elif(model=='Poisson' or model=='Ordinal'):\n",
    "        for i in range(0,label.shape[0]):\n",
    "            error+=abs(predict[i,0]-label[i,0])\n",
    "            \n",
    "    return error/label.shape[0] "
   ]
  },
  {
   "cell_type": "markdown",
   "metadata": {},
   "source": [
    "#### Generalised Linear model (Without hyperparameter optimisation)"
   ]
  },
  {
   "cell_type": "code",
   "execution_count": 297,
   "metadata": {},
   "outputs": [],
   "source": [
    "def train_GLM(X_train,t_train,model,ob):\n",
    "    '''This function trains a Generalised Linear model depending on the model passed'''\n",
    "    W_new=np.zeros(shape=(np.shape(X_train)[1],1))\n",
    "    #W_new=10*np.random.rand(X_train.shape[1],1)\n",
    "    W_old=np.ones(shape=(np.shape(X_train)[1],1))\n",
    "    itr=0\n",
    "    while(not check_convergence(W_new,W_old,itr)):\n",
    "        Y=calculate_y(W_new,X_train,t_train,model,ob)\n",
    "        d=calculate_d(t_train,Y,model)\n",
    "        R=calculate_r(Y,model,ob)\n",
    "        gradient=calculate_gradient(X_train,d,W_new)\n",
    "        hessian=calculate_hessian(X_train,R)\n",
    "        W_old=W_new\n",
    "        W_new=update_W(W_old,hessian,gradient)\n",
    "        itr+=1  \n",
    "    return W_new,itr-1\n",
    "\n",
    "def experiment(data_path,label_path,model,ob=None):\n",
    "    '''This function returns average_error_rate, standard_deviation, average_run_time, average_iterations for the dataset passed.'''\n",
    "    data=get_data(data_path)\n",
    "    ones=np.ones(shape=(np.shape(data)[0],1))\n",
    "    data=np.hstack((ones,data))\n",
    "\n",
    "    label=get_data(label_path)\n",
    "    label=label.reshape(len(label),1)\n",
    "\n",
    "    X_train,t_train,\\\n",
    "    X_test,t_test=split_data(data,label)\n",
    "    \n",
    "    repeat=30\n",
    "    ratio=np.arange(.1,1.1,.1)\n",
    "    mean_size=np.zeros(len(ratio))\n",
    "    std_size=np.zeros(len(ratio))\n",
    "    itr_avg=np.zeros(len(ratio))\n",
    "    run_time_avg=np.zeros(len(ratio))\n",
    "    \n",
    "    for i in range(0,len(ratio)):\n",
    "        error_curr=[]\n",
    "        itr_curr=[]\n",
    "        run_time_curr=[]\n",
    "        for j in range(0,repeat):\n",
    "            X_train_sub,t_train_sub=subset_data(X_train,t_train,ratio[i])\n",
    "            \n",
    "            t0=time.clock()\n",
    "            W_MAP,iterations=train_GLM(X_train_sub,t_train_sub,model,ob)\n",
    "            #print(iterations)\n",
    "            t1=time.clock()\n",
    "            \n",
    "            t_predict=predict_label(X_test,W_MAP,model,ob)\n",
    "            error=calculate_error(t_predict,t_test,model)\n",
    "            \n",
    "            error_curr.append(error)\n",
    "            itr_curr.append(iterations)\n",
    "            run_time_curr.append(t1-t0)\n",
    "            \n",
    "        mean_size[i]=np.mean(error_curr)\n",
    "        std_size[i]=np.std(error_curr)\n",
    "        itr_avg[i]=np.mean(itr_curr)\n",
    "        run_time_avg[i]=np.mean(run_time_curr)\n",
    "    return mean_size,std_size,itr_avg,run_time_avg"
   ]
  },
  {
   "cell_type": "markdown",
   "metadata": {},
   "source": [
    "#### Graph Plotting Functions"
   ]
  },
  {
   "cell_type": "code",
   "execution_count": 298,
   "metadata": {},
   "outputs": [],
   "source": [
    "def plot_graph(X,Y,std_dev):\n",
    "    '''This function plots the necessary graphs for the task'''\n",
    "    plt.figure(1,figsize=(5,5))\n",
    "    \n",
    "    plt.scatter(X,Y,color='b')\n",
    "    plt.plot(X,Y,color='b')\n",
    "    plt.errorbar(X,Y,yerr=std_dev)\n",
    "    plt.xlabel(\"Training data size\")\n",
    "    plt.ylabel(\"Average test error rate\")\n",
    "    plt.title('Variation of average test error rate as training size increases')\n",
    "    plt.grid()\n",
    "    plt.show()\n",
    "    "
   ]
  },
  {
   "cell_type": "markdown",
   "metadata": {},
   "source": [
    "### Running GLM for different datasets."
   ]
  },
  {
   "cell_type": "code",
   "execution_count": 299,
   "metadata": {},
   "outputs": [],
   "source": [
    "alpha=10\n",
    "s=1\n",
    "phi=[-np.inf,-2,-1,0,1,np.inf]"
   ]
  },
  {
   "cell_type": "markdown",
   "metadata": {},
   "source": [
    "#### (1) Logistic regression models"
   ]
  },
  {
   "cell_type": "markdown",
   "metadata": {},
   "source": [
    "##### (1.1) Dataset A"
   ]
  },
  {
   "cell_type": "code",
   "execution_count": 300,
   "metadata": {},
   "outputs": [],
   "source": [
    "model='Logistic'\n",
    "data_path='pp3data\\\\A.csv'\n",
    "label_path='pp3data\\\\labels-A.csv'\n",
    "mean_size,std_size,itr_avg,run_time_avg=experiment(data_path,label_path,model)"
   ]
  },
  {
   "cell_type": "code",
   "execution_count": 301,
   "metadata": {},
   "outputs": [
    {
     "name": "stdout",
     "output_type": "stream",
     "text": [
      "average error rate is : \n",
      "[0.43663664 0.39184184 0.37157157 0.3516016  0.33618619 0.32442442\n",
      " 0.31591592 0.3        0.29034034 0.28528529]\n",
      "\n",
      "\n",
      "average standard deviation is :\n",
      "[0.02258716 0.01906171 0.01763325 0.01335736 0.01115802 0.01164307\n",
      " 0.01320752 0.0113586  0.00791187 0.        ]\n",
      "\n",
      "\n",
      "average number of iterations are : \n",
      "[ 9.16666667  9.86666667  9.96666667 10.         10.         10.\n",
      " 10.         10.         10.         10.        ]\n",
      "\n",
      "\n",
      "average run_time is :\n",
      "[0.00484568 0.00866206 0.02032816 0.02905398 0.03658916 0.04569042\n",
      " 0.06017411 0.07336796 0.07886426 0.09343728]\n",
      "\n",
      "\n"
     ]
    }
   ],
   "source": [
    "print(\"average error rate is : \\n\"+str(mean_size)+str(\"\\n\\n\"))\n",
    "print(\"average standard deviation is :\\n\"+str(std_size)+str(\"\\n\\n\"))\n",
    "print(\"average number of iterations are : \\n\"+str(itr_avg)+str(\"\\n\\n\"))\n",
    "print(\"average run_time is :\\n\"+str(run_time_avg)+str(\"\\n\\n\"))"
   ]
  },
  {
   "cell_type": "code",
   "execution_count": 302,
   "metadata": {},
   "outputs": [
    {
     "data": {
      "image/png": "[encoded data removed]",
      "text/plain": [
       "<Figure size 360x360 with 1 Axes>"
      ]
     },
     "metadata": {},
     "output_type": "display_data"
    }
   ],
   "source": [
    "plot_graph(np.arange(.1,1.1,.1),mean_size,std_size)"
   ]
  },
  {
   "cell_type": "markdown",
   "metadata": {},
   "source": [
    "• Average error rate is decreasing as the training size os increasing.<br>\n",
    "• Standard deviation also reduces with increase in training size.<br>\n",
    "• Average number of iterations required to converge to optimal solution is 10.<br>\n",
    "• Average run time increases as the training sample size increases.<br>"
   ]
  },
  {
   "cell_type": "markdown",
   "metadata": {},
   "source": [
    "###### (1.2) Dataset usps"
   ]
  },
  {
   "cell_type": "code",
   "execution_count": 286,
   "metadata": {},
   "outputs": [],
   "source": [
    "model='Logistic'\n",
    "data_path='pp3data\\\\usps.csv'\n",
    "label_path='pp3data\\\\labels-usps.csv'\n",
    "mean_size,std_size,itr_avg,run_time_avg=experiment(data_path,label_path,model)"
   ]
  },
  {
   "cell_type": "code",
   "execution_count": 287,
   "metadata": {},
   "outputs": [
    {
     "name": "stdout",
     "output_type": "stream",
     "text": [
      "average error rate is : \n",
      "[0.06452242 0.05328135 0.05159194 0.04957765 0.04515919 0.04405458\n",
      " 0.04282001 0.04145549 0.04035088 0.03703704]\n",
      "\n",
      "\n",
      "average standard deviation is :\n",
      "[9.32621732e-03 6.31316845e-03 5.68838691e-03 4.71297929e-03\n",
      " 3.49007122e-03 4.31793313e-03 2.99812138e-03 3.01707258e-03\n",
      " 2.25930327e-03 1.38777878e-17]\n",
      "\n",
      "\n",
      "average number of iterations are : \n",
      "[13.63333333 14.96666667 15.7        16.26666667 16.86666667 17.03333333\n",
      " 17.23333333 17.53333333 17.93333333 18.        ]\n",
      "\n",
      "\n",
      "average run_time is :\n",
      "[0.03790473 0.05074053 0.06721882 0.08815482 0.12253495 0.14760623\n",
      " 0.17736308 0.20871768 0.24674567 0.28175038]\n",
      "\n",
      "\n"
     ]
    }
   ],
   "source": [
    "print(\"average error rate is : \\n\"+str(mean_size)+str(\"\\n\\n\"))\n",
    "print(\"average standard deviation is :\\n\"+str(std_size)+str(\"\\n\\n\"))\n",
    "print(\"average number of iterations are : \\n\"+str(itr_avg)+str(\"\\n\\n\"))\n",
    "print(\"average run_time is :\\n\"+str(run_time_avg)+str(\"\\n\\n\"))"
   ]
  },
  {
   "cell_type": "code",
   "execution_count": 289,
   "metadata": {},
   "outputs": [
    {
     "data": {
      "image/png": "[encoded data removed]",
      "text/plain": [
       "<Figure size 360x360 with 1 Axes>"
      ]
     },
     "metadata": {},
     "output_type": "display_data"
    }
   ],
   "source": [
    "plot_graph(np.arange(.1,1.1,.1),mean_size,std_size)"
   ]
  },
  {
   "cell_type": "markdown",
   "metadata": {},
   "source": [
    "• Average error rate is decreasing as the training size os increasing.<br>\n",
    "• Standard deviation also reduces with increase in training size.<br>\n",
    "• Average number of iterations required to converge to optimal solution is 16-18.<br>\n",
    "• Average run time increases as the training sample size increases.<br>"
   ]
  },
  {
   "cell_type": "markdown",
   "metadata": {},
   "source": [
    "#### (2) Poisson regression model"
   ]
  },
  {
   "cell_type": "code",
   "execution_count": 290,
   "metadata": {},
   "outputs": [],
   "source": [
    "model='Poisson'\n",
    "data_path='pp3data\\\\AP.csv'\n",
    "label_path='pp3data\\\\labels-AP.csv'\n",
    "mean_size,std_size,itr_avg,run_time_avg=experiment(data_path,label_path,model)"
   ]
  },
  {
   "cell_type": "code",
   "execution_count": 291,
   "metadata": {},
   "outputs": [
    {
     "name": "stdout",
     "output_type": "stream",
     "text": [
      "average error rate is : \n",
      "[1.17966716 1.07740338 1.04821248 1.02265914 1.00491583 0.99859877\n",
      " 0.99266987 0.99223096 0.98782541 0.98366953]\n",
      "\n",
      "\n",
      "average standard deviation is :\n",
      "[3.35889234e-02 3.21601723e-02 2.47493326e-02 1.72863392e-02\n",
      " 1.45467436e-02 8.24370676e-03 9.48629332e-03 5.27050268e-03\n",
      " 5.75573415e-03 3.24316904e-16]\n",
      "\n",
      "\n",
      "average number of iterations are : \n",
      "[7.53333333 7.03333333 7.         6.8        6.66666667 6.56666667\n",
      " 6.36666667 6.06666667 6.03333333 6.        ]\n",
      "\n",
      "\n",
      "average run_time is :\n",
      "[0.00397231 0.00601953 0.0121179  0.01877816 0.02460881 0.02781883\n",
      " 0.036614   0.04364411 0.04674609 0.05960685]\n",
      "\n",
      "\n"
     ]
    }
   ],
   "source": [
    "print(\"average error rate is : \\n\"+str(mean_size)+str(\"\\n\\n\"))\n",
    "print(\"average standard deviation is :\\n\"+str(std_size)+str(\"\\n\\n\"))\n",
    "print(\"average number of iterations are : \\n\"+str(itr_avg)+str(\"\\n\\n\"))\n",
    "print(\"average run_time is :\\n\"+str(run_time_avg)+str(\"\\n\\n\"))"
   ]
  },
  {
   "cell_type": "code",
   "execution_count": 292,
   "metadata": {},
   "outputs": [
    {
     "data": {
      "image/png": "[encoded data removed]",
      "text/plain": [
       "<Figure size 360x360 with 1 Axes>"
      ]
     },
     "metadata": {},
     "output_type": "display_data"
    }
   ],
   "source": [
    "plot_graph(np.arange(.1,1.1,.1),mean_size,std_size)"
   ]
  },
  {
   "cell_type": "markdown",
   "metadata": {},
   "source": [
    "• Average error rate is decreasing as the training size os increasing.<br>\n",
    "• Standard deviation also reduces with increase in training size.<br>\n",
    "• Average number of iterations required to converge to optimal solution is 7.<br>\n",
    "• Average run time increases as the training sample size increases.<br>"
   ]
  },
  {
   "cell_type": "markdown",
   "metadata": {},
   "source": [
    "#### (3) Ordinal regression model"
   ]
  },
  {
   "cell_type": "code",
   "execution_count": 303,
   "metadata": {
    "scrolled": true
   },
   "outputs": [],
   "source": [
    "model='Ordinal'\n",
    "data_path='pp3data\\\\AO.csv'\n",
    "label_path='pp3data\\\\labels-AO.csv'\n",
    "ob=Ordinal(s,phi)\n",
    "#print(ob.s)\n",
    "#print(ob.phi)\n",
    "mean_size,std_size,itr_avg,run_time_avg=experiment(data_path,label_path,model,ob)"
   ]
  },
  {
   "cell_type": "code",
   "execution_count": 304,
   "metadata": {},
   "outputs": [
    {
     "name": "stdout",
     "output_type": "stream",
     "text": [
      "average error rate is : \n",
      "[0.84874875 0.74964965 0.70900901 0.69089089 0.69069069 0.6994995\n",
      " 0.7014014  0.70870871 0.70620621 0.71171171]\n",
      "\n",
      "\n",
      "average standard deviation is :\n",
      "[1.16027589e-01 5.49392722e-02 3.66755893e-02 2.11483820e-02\n",
      " 1.46296904e-02 1.15249954e-02 1.23740082e-02 1.25265187e-02\n",
      " 8.80937754e-03 1.11022302e-16]\n",
      "\n",
      "\n",
      "average number of iterations are : \n",
      "[9. 9. 9. 9. 9. 9. 9. 9. 9. 9.]\n",
      "\n",
      "\n",
      "average run_time is :\n",
      "[0.02132092 0.04380256 0.07339286 0.10109823 0.13630429 0.16800147\n",
      " 0.20092661 0.24173028 0.26943607 0.30855922]\n",
      "\n",
      "\n"
     ]
    }
   ],
   "source": [
    "print(\"average error rate is : \\n\"+str(mean_size)+str(\"\\n\\n\"))\n",
    "print(\"average standard deviation is :\\n\"+str(std_size)+str(\"\\n\\n\"))\n",
    "print(\"average number of iterations are : \\n\"+str(itr_avg)+str(\"\\n\\n\"))\n",
    "print(\"average run_time is :\\n\"+str(run_time_avg)+str(\"\\n\\n\"))"
   ]
  },
  {
   "cell_type": "code",
   "execution_count": 295,
   "metadata": {},
   "outputs": [
    {
     "data": {
      "image/png": "[encoded data removed]",
      "text/plain": [
       "<Figure size 360x360 with 1 Axes>"
      ]
     },
     "metadata": {},
     "output_type": "display_data"
    }
   ],
   "source": [
    "plot_graph(np.arange(.1,1.1,.1),mean_size,std_size)"
   ]
  },
  {
   "cell_type": "markdown",
   "metadata": {},
   "source": [
    "• Average error rate is decreasing as the training size os increasing.<br>\n",
    "• Standard deviation also reduces with increase in training size.<br>\n",
    "• Average number of iterations required to converge to optimal solution is 10.<br>\n",
    "• Average run time increases as the training sample size increases.<br>"
   ]
  },
  {
   "cell_type": "markdown",
   "metadata": {},
   "source": [
    "<b> Are the learning curves as expected? </b><br>\n",
    "Yes, the learning curves are as expected. The error rate decreases as the training sample size increases and the satandard deviation reduces.<br>\n",
    "\n",
    "<b>Q)How does Learning time vary across datasets?</b><br>\n",
    "Learning time increases as we increase the training set and it is different for different datsets.<br>\n",
    "\n",
    "<b>Q) How does learning time vary across Likelihood models?</b><br>\n",
    "Learning time is in this order poisson<logistic<ordinal for different likelihood models.\n",
    "\n",
    "<b>Q) What are the main costs affecting these?</b><br>\n",
    "Time per iteration is mainly affected by how long it takes to update W. This depends on calculating Hessian_inverse and gradient which in turn depends oon the training sample size.<br>\n",
    "Number of iterations depend on how our likelihood function looks like and what is starting point we are choosing( that is initial W)."
   ]
  },
  {
   "cell_type": "markdown",
   "metadata": {},
   "source": [
    "# Extra Credit"
   ]
  },
  {
   "cell_type": "markdown",
   "metadata": {},
   "source": [
    "#### Using Evidence maximisation for hyperparameter optimisation\n",
    "( The calculations for calculating evidence function are shown in calculation.pdf)"
   ]
  },
  {
   "cell_type": "code",
   "execution_count": 56,
   "metadata": {},
   "outputs": [],
   "source": [
    "def train_GLM2(X_train,t_train,model,ob,alpha):\n",
    "    W_new=np.zeros(shape=(np.shape(X_train)[1],1))\n",
    "    W_old=np.ones(shape=(np.shape(X_train)[1],1))\n",
    "    itr=0\n",
    "    while(not check_convergence(W_new,W_old,itr)):\n",
    "        Y=calculate_y(W_new,X_train,t_train,model,ob)\n",
    "        d=calculate_d(t_train,Y,model)\n",
    "        R=calculate_r(Y,model,ob)\n",
    "        gradient=calculate_gradient(X_train,d,W_new,alpha)\n",
    "        hessian=calculate_hessian(X_train,R,alpha)\n",
    "        W_old=W_new\n",
    "        W_new=update_W(W_old,hessian,gradient)\n",
    "        itr+=1\n",
    "    #print(itr)   \n",
    "    return W_new,R\n",
    "\n",
    "def experiment_with_optimisation(X_train,t_train,model,alpha_old,alpha_new,ob=None):\n",
    "    \n",
    "    while(abs(alpha_new-alpha_old)>1e-4):\n",
    "        W_MAP,R=train_GLM2(X_train,t_train,model,ob,alpha_new)\n",
    "        Gamma=calculate_Gamma(alpha_old,X_train,R)\n",
    "        alpha_old=alpha_new\n",
    "        alpha_new=calculate_alpha_new(Gamma,W_MAP)\n",
    "    return W_MAP,alpha_new"
   ]
  },
  {
   "cell_type": "markdown",
   "metadata": {},
   "source": [
    "##### Dataset (A)"
   ]
  },
  {
   "cell_type": "code",
   "execution_count": 306,
   "metadata": {},
   "outputs": [],
   "source": [
    "alpha_old=0\n",
    "alpha_new=np.random.uniform(1,10,1)[0] # Initialising hyperparameter.\n",
    "model='Logistic'\n",
    "data_path='pp3data\\\\A.csv'\n",
    "label_path='pp3data\\labels-A.csv'\n",
    "\n",
    "data=get_data(data_path)\n",
    "ones=np.ones(shape=(np.shape(data)[0],1))\n",
    "data=np.hstack((ones,data))\n",
    "\n",
    "label=get_data(label_path)\n",
    "label=label.reshape(len(label),1)\n",
    "    \n",
    "X_train,t_train,\\\n",
    "X_test,t_test=split_data(data,label)\n",
    "    \n",
    "W_MAP,alpha=experiment_with_optimisation(X_train,t_train,model,alpha_old,alpha_new)"
   ]
  },
  {
   "cell_type": "code",
   "execution_count": 307,
   "metadata": {},
   "outputs": [
    {
     "name": "stdout",
     "output_type": "stream",
     "text": [
      "Optimal alpha is : 0.004507773399604427 and error corresponding to this alpha is : 0.03903903903903904\n"
     ]
    }
   ],
   "source": [
    "t_predict=predict_label(X_test,W_MAP,model)\n",
    "error=calculate_error(t_predict,t_test,model)\n",
    "print(\"Optimal alpha is : \"+str(alpha)+\" and error corresponding to this alpha is : \"+str(error))"
   ]
  },
  {
   "cell_type": "markdown",
   "metadata": {},
   "source": [
    "This error is significantly lower than what we got when we used arbitrary alpha(=10) above. It also converged very fast. Had we used cross validation for hyperparameter tuning, it would have taken much longer to find optimal alpha."
   ]
  },
  {
   "cell_type": "markdown",
   "metadata": {},
   "source": [
    "#### Dataset (usps)"
   ]
  },
  {
   "cell_type": "code",
   "execution_count": 59,
   "metadata": {},
   "outputs": [],
   "source": [
    "alpha_old=0\n",
    "alpha_new=np.random.uniform(1,10,1)[0] # Initialising hyperparameter.\n",
    "model='Logistic'\n",
    "data_path='pp3data\\\\usps.csv'\n",
    "label_path='pp3data\\\\labels-usps.csv'\n",
    "\n",
    "data=get_data(data_path)\n",
    "ones=np.ones(shape=(np.shape(data)[0],1))\n",
    "data=np.hstack((ones,data))\n",
    "\n",
    "label=get_data(label_path)\n",
    "label=label.reshape(len(label),1)\n",
    "    \n",
    "X_train,t_train,\\\n",
    "X_test,t_test=split_data(data,label)\n",
    "    \n",
    "W_MAP,alpha=experiment_with_optimisation(X_train,t_train,model,alpha_old,alpha_new)"
   ]
  },
  {
   "cell_type": "code",
   "execution_count": 60,
   "metadata": {},
   "outputs": [
    {
     "name": "stdout",
     "output_type": "stream",
     "text": [
      "Optimal alpha is : 6.793451020597337 and error corresponding to this alpha is : 0.025341130604288498\n"
     ]
    }
   ],
   "source": [
    "t_predict=predict_label(X_test,W_MAP,model)\n",
    "error=calculate_error(t_predict,t_test,model)\n",
    "print(\"Optimal alpha is : \"+str(alpha)+\" and error corresponding to this alpha is : \"+str(error))"
   ]
  },
  {
   "cell_type": "markdown",
   "metadata": {},
   "source": [
    "This error is significantly lower than what we got when we used arbitrary alpha(=10) above. It also converged very fast. Had we used cross validation for hyperparameter tuning, it would have taken much longer to find optimal alpha."
   ]
  },
  {
   "cell_type": "markdown",
   "metadata": {},
   "source": [
    "#### Dataset(AP)"
   ]
  },
  {
   "cell_type": "code",
   "execution_count": 71,
   "metadata": {},
   "outputs": [],
   "source": [
    "alpha_old=0\n",
    "alpha_new=np.random.uniform(1,10,1)[0] # Initialising hyperparameter.\n",
    "model='Poisson'\n",
    "data_path='pp3data\\\\AP.csv'\n",
    "label_path='pp3data\\\\labels-AP.csv'\n",
    "\n",
    "data=get_data(data_path)\n",
    "ones=np.ones(shape=(np.shape(data)[0],1))\n",
    "data=np.hstack((ones,data))\n",
    "\n",
    "label=get_data(label_path)\n",
    "label=label.reshape(len(label),1)\n",
    "    \n",
    "X_train,t_train,\\\n",
    "X_test,t_test=split_data(data,label)\n",
    "    \n",
    "W_MAP,alpha=experiment_with_optimisation(X_train,t_train,model,alpha_old,alpha_new)"
   ]
  },
  {
   "cell_type": "code",
   "execution_count": 72,
   "metadata": {},
   "outputs": [
    {
     "name": "stdout",
     "output_type": "stream",
     "text": [
      "Optimal alpha is : 10.4699318508741 and error corresponding to this alpha is : 0.9624987936324793\n"
     ]
    }
   ],
   "source": [
    "t_predict=predict_label(X_test,W_MAP,model)\n",
    "error=calculate_error(t_predict,t_test,model)\n",
    "print(\"Optimal alpha is : \"+str(alpha)+\" and error corresponding to this alpha is : \"+str(error))"
   ]
  },
  {
   "cell_type": "markdown",
   "metadata": {},
   "source": [
    "This error is again close to what we got when we used arbitrary alpha(=10) above. Because here optimal alpha is very close to 10. It also converged very fast. Had we used cross validation for hyperparameter tuning, it would have taken much longer to find optimal alpha."
   ]
  },
  {
   "cell_type": "markdown",
   "metadata": {},
   "source": [
    "#### Dataset(AO)\n",
    "( I havent optimised for s and phi(j) but have shown the calculations in calculations.pdf)"
   ]
  },
  {
   "cell_type": "code",
   "execution_count": 308,
   "metadata": {},
   "outputs": [],
   "source": [
    "alpha_old=0\n",
    "alpha_new=np.random.uniform(1,10,1)[0] # Initialising hyperparameter.\n",
    "model='Ordinal'\n",
    "data_path='pp3data\\\\AO.csv'\n",
    "label_path='pp3data\\\\labels-AO.csv'\n",
    "\n",
    "ob=Ordinal(s,phi)\n",
    "\n",
    "data=get_data(data_path)\n",
    "ones=np.ones(shape=(np.shape(data)[0],1))\n",
    "data=np.hstack((ones,data))\n",
    "\n",
    "label=get_data(label_path)\n",
    "label=label.reshape(len(label),1)\n",
    "    \n",
    "X_train,t_train,\\\n",
    "X_test,t_test=split_data(data,label)\n",
    "    \n",
    "W_MAP,alpha=experiment_with_optimisation(X_train,t_train,model,alpha_old,alpha_new,ob)"
   ]
  },
  {
   "cell_type": "code",
   "execution_count": 309,
   "metadata": {},
   "outputs": [
    {
     "name": "stdout",
     "output_type": "stream",
     "text": [
      "Optimal alpha is : 1.6699560137021872 and error corresponding to this alpha is : 0.6831831831831832\n"
     ]
    }
   ],
   "source": [
    "t_predict=predict_label(X_test,W_MAP,model,ob)\n",
    "error=calculate_error(t_predict,t_test,model)\n",
    "print(\"Optimal alpha is : \"+str(alpha)+\" and error corresponding to this alpha is : \"+str(error))"
   ]
  },
  {
   "cell_type": "markdown",
   "metadata": {},
   "source": [
    "This error is significantly lower than what we got when we used arbitrary alpha(=10) above. It also converged very fast. Had we used cross validation for hyperparameter tuning, it would have taken much longer to find optimal alpha."
   ]
  }
 ],
 "metadata": {
  "kernelspec": {
   "display_name": "Python 3",
   "language": "python",
   "name": "python3"
  },
  "language_info": {
   "codemirror_mode": {
    "name": "ipython",
    "version": 3
   },
   "file_extension": ".py",
   "mimetype": "text/x-python",
   "name": "python",
   "nbconvert_exporter": "python",
   "pygments_lexer": "ipython3",
   "version": "3.7.4"
  }
 },
 "nbformat": 4,
 "nbformat_minor": 2
}
